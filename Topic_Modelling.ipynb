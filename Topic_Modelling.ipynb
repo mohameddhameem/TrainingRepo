{
  "nbformat": 4,
  "nbformat_minor": 0,
  "metadata": {
    "colab": {
      "name": "Topic Modelling.ipynb",
      "provenance": [],
      "include_colab_link": true
    },
    "kernelspec": {
      "name": "python3",
      "display_name": "Python 3"
    }
  },
  "cells": [
    {
      "cell_type": "markdown",
      "metadata": {
        "id": "view-in-github",
        "colab_type": "text"
      },
      "source": [
        "<a href=\"https://colab.research.google.com/github/mohameddhameem/TrainingRepo/blob/main/Topic_Modelling.ipynb\" target=\"_parent\"><img src=\"https://colab.research.google.com/assets/colab-badge.svg\" alt=\"Open In Colab\"/></a>"
      ]
    },
    {
      "cell_type": "code",
      "metadata": {
        "id": "tdq16lXczbpZ"
      },
      "source": [
        "from sklearn.feature_extraction.text import TfidfVectorizer, CountVectorizer\r\n",
        "from sklearn.datasets import fetch_20newsgroups\r\n",
        "from sklearn.decomposition import NMF, LatentDirichletAllocation"
      ],
      "execution_count": 1,
      "outputs": []
    },
    {
      "cell_type": "code",
      "metadata": {
        "id": "vAjrqNbnzld2"
      },
      "source": [
        "def display_topics(model, feature_names, no_top_words):\r\n",
        "    for topic_idx, topic in enumerate(model.components_):\r\n",
        "        print(\"Topic %d:\" % (topic_idx))\r\n",
        "        print (\" \".join([feature_names[i]\r\n",
        "                        for i in topic.argsort()[:-no_top_words - 1:-1]]))"
      ],
      "execution_count": 2,
      "outputs": []
    },
    {
      "cell_type": "code",
      "metadata": {
        "colab": {
          "base_uri": "https://localhost:8080/"
        },
        "id": "VqO8r-5azr1p",
        "outputId": "c3c77268-b371-4501-c8ef-f47d2f4ea170"
      },
      "source": [
        "dataset = fetch_20newsgroups(shuffle=True, random_state=1, remove=('headers', 'footers', 'quotes'))\r\n",
        "documents = dataset.data\r\n",
        "\r\n",
        "no_features = 1000"
      ],
      "execution_count": 3,
      "outputs": [
        {
          "output_type": "stream",
          "text": [
            "Downloading 20news dataset. This may take a few minutes.\n",
            "Downloading dataset from https://ndownloader.figshare.com/files/5975967 (14 MB)\n"
          ],
          "name": "stderr"
        }
      ]
    },
    {
      "cell_type": "code",
      "metadata": {
        "id": "RsBVkqsUzy_3"
      },
      "source": [
        "# NMF is able to use tf-idf\r\n",
        "tfidf_vectorizer = TfidfVectorizer(max_df=0.95, min_df=2, max_features=no_features, stop_words='english')\r\n",
        "tfidf = tfidf_vectorizer.fit_transform(documents)\r\n",
        "tfidf_feature_names = tfidf_vectorizer.get_feature_names()"
      ],
      "execution_count": 4,
      "outputs": []
    },
    {
      "cell_type": "code",
      "metadata": {
        "id": "Q2vONpG0z2tD"
      },
      "source": [
        "# LDA can only use raw term counts for LDA because it is a probabilistic graphical model\r\n",
        "tf_vectorizer = CountVectorizer(max_df=0.95, min_df=2, max_features=no_features, stop_words='english')\r\n",
        "tf = tf_vectorizer.fit_transform(documents)\r\n",
        "tf_feature_names = tf_vectorizer.get_feature_names()"
      ],
      "execution_count": 5,
      "outputs": []
    },
    {
      "cell_type": "code",
      "metadata": {
        "id": "i1Z9stUqz7WE"
      },
      "source": [
        "no_topics = 20\r\n"
      ],
      "execution_count": 6,
      "outputs": []
    },
    {
      "cell_type": "code",
      "metadata": {
        "id": "pOHKEYXYz8aZ"
      },
      "source": [
        "# Run NMF\r\n",
        "nmf = NMF(n_components=no_topics, random_state=1, alpha=.1, l1_ratio=.5, init='nndsvd').fit(tfidf)\r\n",
        "\r\n",
        "# Run LDA\r\n",
        "lda = LatentDirichletAllocation(n_components=no_topics, max_iter=5, learning_method='online', learning_offset=50.,random_state=0).fit(tf)\r\n"
      ],
      "execution_count": 7,
      "outputs": []
    },
    {
      "cell_type": "code",
      "metadata": {
        "colab": {
          "base_uri": "https://localhost:8080/"
        },
        "id": "cvYTUjZE0Pf3",
        "outputId": "a2bf369e-93a8-4cfb-c167-1954144ac77d"
      },
      "source": [
        "no_top_words = 10\r\n",
        "display_topics(nmf, tfidf_feature_names, no_top_words)\r\n",
        "display_topics(lda, tf_feature_names, no_top_words)"
      ],
      "execution_count": 8,
      "outputs": [
        {
          "output_type": "stream",
          "text": [
            "Topic 0:\n",
            "people time right did good said say make way government\n",
            "Topic 1:\n",
            "window problem using server application screen display motif manager running\n",
            "Topic 2:\n",
            "god jesus bible christ faith believe christian christians sin church\n",
            "Topic 3:\n",
            "game team year games season players play hockey win league\n",
            "Topic 4:\n",
            "new 00 sale 10 price offer shipping condition 20 15\n",
            "Topic 5:\n",
            "thanks mail advance hi looking info help information address appreciated\n",
            "Topic 6:\n",
            "windows file files dos program version ftp ms directory running\n",
            "Topic 7:\n",
            "edu soon cs university ftp internet article email pub david\n",
            "Topic 8:\n",
            "key chip clipper encryption keys escrow government public algorithm nsa\n",
            "Topic 9:\n",
            "drive scsi drives hard disk ide floppy controller cd mac\n",
            "Topic 10:\n",
            "just ll thought tell oh little fine work wanted mean\n",
            "Topic 11:\n",
            "does know anybody mean work say doesn help exist program\n",
            "Topic 12:\n",
            "card video monitor cards drivers bus vga driver color memory\n",
            "Topic 13:\n",
            "like sounds looks look bike sound lot things really thing\n",
            "Topic 14:\n",
            "don know want let need doesn little sure sorry things\n",
            "Topic 15:\n",
            "car cars engine speed good bike driver road insurance fast\n",
            "Topic 16:\n",
            "ve got seen heard tried good recently times try couple\n",
            "Topic 17:\n",
            "use used using work available want software need image data\n",
            "Topic 18:\n",
            "think don lot try makes really pretty wasn bit david\n",
            "Topic 19:\n",
            "com list dave internet article sun hp email ibm phone\n",
            "Topic 0:\n",
            "people gun state control right guns crime states law police\n",
            "Topic 1:\n",
            "time question book years did like don space answer just\n",
            "Topic 2:\n",
            "mr line rules science stephanopoulos title current define int yes\n",
            "Topic 3:\n",
            "key chip keys clipper encryption number des algorithm use bit\n",
            "Topic 4:\n",
            "edu com cs vs w7 cx mail uk 17 send\n",
            "Topic 5:\n",
            "use does window problem way used point different case value\n",
            "Topic 6:\n",
            "windows thanks know help db does dos problem like using\n",
            "Topic 7:\n",
            "bike water effect road design media dod paper like turn\n",
            "Topic 8:\n",
            "don just like think know people good ve going say\n",
            "Topic 9:\n",
            "car new price good power used air sale offer ground\n",
            "Topic 10:\n",
            "file available program edu ftp information files use image version\n",
            "Topic 11:\n",
            "ax max b8f g9v a86 145 pl 1d9 0t 34u\n",
            "Topic 12:\n",
            "government law privacy security legal encryption court fbi technology information\n",
            "Topic 13:\n",
            "card bit memory output video color data mode monitor 16\n",
            "Topic 14:\n",
            "drive scsi disk mac hard apple drives controller software port\n",
            "Topic 15:\n",
            "god jesus people believe christian bible say does life church\n",
            "Topic 16:\n",
            "year game team games season play hockey players league player\n",
            "Topic 17:\n",
            "10 00 15 25 20 11 12 14 16 13\n",
            "Topic 18:\n",
            "armenian israel armenians war people jews turkish israeli said women\n",
            "Topic 19:\n",
            "president people new said health year university school day work\n"
          ],
          "name": "stdout"
        }
      ]
    },
    {
      "cell_type": "code",
      "metadata": {
        "id": "YehOLrpcPWrE"
      },
      "source": [
        ""
      ],
      "execution_count": null,
      "outputs": []
    }
  ]
}